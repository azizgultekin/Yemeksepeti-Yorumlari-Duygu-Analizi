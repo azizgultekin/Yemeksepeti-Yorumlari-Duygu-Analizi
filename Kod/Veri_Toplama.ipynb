{
 "cells": [
  {
   "cell_type": "code",
   "execution_count": 69,
   "metadata": {},
   "outputs": [],
   "source": [
    "from bs4 import BeautifulSoup\n",
    "import requests"
   ]
  },
  {
   "cell_type": "code",
   "execution_count": 70,
   "metadata": {
    "scrolled": true
   },
   "outputs": [],
   "source": [
    "a=1\n",
    "x= \"https://www.yemeksepeti.com/burger-king-sisli-merkez-mah-istanbul\"+\"?section=comments&page=\"\n",
    "\n",
    "r = requests.get(x+str(a))\n",
    "soup1 = BeautifulSoup(r.content,\"lxml\")\n",
    "yorum_sayisi = soup1.find(\"a\",attrs={\"href\" : \"?section=comments\"}).text\n",
    "dizi=yorum_sayisi.split(\" \")\n",
    "ab=dizi[1].replace(\"(\",\"\")\n",
    "ca=ab.replace(\")\",\"\")\n",
    "da=int(ca)/30\n",
    "\n",
    "dosya = open(\"KFC_Yorumlari.txt\",\"a\",encoding=\"utf-8\")\n",
    "\n",
    "for dongu in range(0,int(da)+1):\n",
    "    \n",
    "    r = requests.get(x+str(a))\n",
    "    soup = BeautifulSoup(r.content,\"lxml\")\n",
    "    st1 = soup.find(\"div\",attrs={\"class\":\"comments allCommentsArea\"})\n",
    "    st2 = st1.find_all(\"div\",attrs={\"class\":\"comments-body\"})\n",
    "    for icerik in st2:\n",
    "            st3 = icerik.find(\"div\",attrs={\"class\":\"user\"})\n",
    "        \n",
    "            if ( st3.find(\"div\",attrs={\"class\":\"comment ys-comment row\"}) in st3):\n",
    "                st4 = st3.find(\"div\",attrs={\"class\":\"comment ys-comment row\"})\n",
    "                dosya.write(st4.find(\"p\").text+\"\\n\")\n",
    "            \n",
    "            else:\n",
    "                st4 = st3.find(\"div\",attrs={\"class\":\"comment row\"})\n",
    "                dosya.write(st4.find(\"p\").text+\"\\n\")\n",
    "    a += 1      \n",
    "\n",
    "dosya.close()"
   ]
  },
  {
   "cell_type": "code",
   "execution_count": null,
   "metadata": {},
   "outputs": [],
   "source": []
  }
 ],
 "metadata": {
  "kernelspec": {
   "display_name": "Python 3",
   "language": "python",
   "name": "python3"
  },
  "language_info": {
   "codemirror_mode": {
    "name": "ipython",
    "version": 3
   },
   "file_extension": ".py",
   "mimetype": "text/x-python",
   "name": "python",
   "nbconvert_exporter": "python",
   "pygments_lexer": "ipython3",
   "version": "3.8.5"
  }
 },
 "nbformat": 4,
 "nbformat_minor": 4
}
